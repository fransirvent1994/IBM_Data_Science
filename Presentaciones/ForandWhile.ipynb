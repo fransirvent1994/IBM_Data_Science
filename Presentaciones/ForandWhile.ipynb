{
 "cells": [
  {
   "cell_type": "markdown",
   "id": "71ceea0d-9ef1-4f81-ba0e-063b8c81c663",
   "metadata": {},
   "source": [
    "# Bucle for\n",
    "### Se usa cuando queremos que se cumpla una sentencia en nuestro código, y el fin se cumple una vez dada la condición."
   ]
  },
  {
   "cell_type": "markdown",
   "id": "8522f949-d348-4043-8867-e4d9d564521c",
   "metadata": {},
   "source": [
    "#### 1. Declaramos las variables"
   ]
  },
  {
   "cell_type": "code",
   "execution_count": 9,
   "id": "99bb64ec-b0ee-4a5c-b36a-2bd60ca14716",
   "metadata": {},
   "outputs": [],
   "source": [
    "n = 10 \n",
    "factorial = 1"
   ]
  },
  {
   "cell_type": "markdown",
   "id": "d8f9c164-73c2-4551-bde2-c8d96e04e817",
   "metadata": {},
   "source": [
    "#### Teniendo las variables declaradas, comenzamos a iniciar el bucle for:"
   ]
  },
  {
   "cell_type": "code",
   "execution_count": 10,
   "id": "88fe48dc-b052-4d4f-83b8-010163f63736",
   "metadata": {},
   "outputs": [
    {
     "name": "stdout",
     "output_type": "stream",
     "text": [
      "1\n",
      "2\n",
      "3\n",
      "4\n",
      "5\n"
     ]
    }
   ],
   "source": [
    "for numero in range(1, 6):\n",
    "    print(numero)"
   ]
  },
  {
   "cell_type": "markdown",
   "id": "44e31f90-7931-4b6d-975a-15b0b0c85b07",
   "metadata": {
    "jp-MarkdownHeadingCollapsed": true
   },
   "source": [
    "### Sintaxis de for:\n",
    "#### Siempre se empieza con for, seguido de una variable (en este caso, numero) que determina el objeto de la condición y acaba en su finalidad (en este caso, elegimos range, que sirve para contar números, y elegimos del 1 al 5) y, al finalizar la linea, se acaba con dos puntos"
   ]
  },
  {
   "cell_type": "markdown",
   "id": "cde958af-3690-4fc9-b1fd-b87b4e922e5f",
   "metadata": {},
   "source": [
    "# Bucle while.\n",
    "### Se usa para que permanezca una condición constantemente, de manera indefinida o determinada, en la que se almacena unas instrucciones."
   ]
  },
  {
   "cell_type": "markdown",
   "id": "b6bf6963-0016-4de7-8195-b52e8294ce17",
   "metadata": {},
   "source": [
    "#### Declaramos variables:"
   ]
  },
  {
   "cell_type": "code",
   "execution_count": 11,
   "id": "a58ea569-0034-42da-9c4b-dec5e1c58e89",
   "metadata": {},
   "outputs": [],
   "source": [
    "x = 1"
   ]
  },
  {
   "cell_type": "markdown",
   "id": "5a2e2cc6-4fde-4f88-b37b-0a6b2023782d",
   "metadata": {},
   "source": [
    "#### Declaramos el loop while:"
   ]
  },
  {
   "cell_type": "code",
   "execution_count": 12,
   "id": "de653e70-ee80-465a-b84a-6783f4db0b24",
   "metadata": {},
   "outputs": [
    {
     "name": "stdout",
     "output_type": "stream",
     "text": [
      "1\n",
      "2\n",
      "3\n",
      "4\n"
     ]
    }
   ],
   "source": [
    "while x <= 4:\n",
    "  print(x)\n",
    "  x +=1"
   ]
  },
  {
   "cell_type": "markdown",
   "id": "2bb8656a-b08f-4568-aafb-169b2318e1e0",
   "metadata": {},
   "source": [
    "### Sintaxis de While:\n",
    "#### Para declarar while se asemeja mucho a for. While empieza por while, seguido de la variable a considerar, en este caso solo tenemos x, pero va a elección según necesidad. Al tener while variable, sigue la condición, que en este caso es \"while x sea menor o igual que 4\", lo que hace que se cumpla una condición determinada, que es que mientras que x (que vale 1) sea menor o igual que 4, se imprimirá x, por lo que, se imprimirá 1 constantemente. Por lo que, cortamos el loop mediante una condición nueva, y es que sumamos 1 a X en cada impresión, por lo que el recuento de números, al llegar a 4, rompe el loop."
   ]
  },
  {
   "cell_type": "code",
   "execution_count": null,
   "id": "9c581275-57a9-408c-81f1-502a50a6da1e",
   "metadata": {},
   "outputs": [],
   "source": []
  }
 ],
 "metadata": {
  "kernelspec": {
   "display_name": "Python 3 (ipykernel)",
   "language": "python",
   "name": "python3"
  },
  "language_info": {
   "codemirror_mode": {
    "name": "ipython",
    "version": 3
   },
   "file_extension": ".py",
   "mimetype": "text/x-python",
   "name": "python",
   "nbconvert_exporter": "python",
   "pygments_lexer": "ipython3",
   "version": "3.10.13"
  }
 },
 "nbformat": 4,
 "nbformat_minor": 5
}
