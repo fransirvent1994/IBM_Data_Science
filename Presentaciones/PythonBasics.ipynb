{
 "cells": [
  {
   "cell_type": "markdown",
   "id": "af4e501b-89a7-49cb-8233-b5c2f853ee74",
   "metadata": {},
   "source": [
    "# Python basico\n",
    "### Aqui pondré código explicativo en Python a modo de guía, para quien quiera probar. Mi consejo es que, si queréis usarlo, os descargueis Anaconda3, es muy completo y totalmente gratuito."
   ]
  },
  {
   "cell_type": "markdown",
   "id": "d42f4c36-a425-4ab0-974b-7295df02c040",
   "metadata": {},
   "source": [
    "## Tipico hola mundo:"
   ]
  },
  {
   "cell_type": "code",
   "execution_count": 88,
   "id": "c563fd93-39be-4248-9aa0-e41b0d951806",
   "metadata": {},
   "outputs": [
    {
     "name": "stdout",
     "output_type": "stream",
     "text": [
      "hello world\n",
      "Hello there\n",
      "General Kenobiii\n"
     ]
    }
   ],
   "source": [
    "print(\"hello world\")\n",
    "print(\"Hello there\")\n",
    "print(\"General Kenobiii\")"
   ]
  },
  {
   "cell_type": "markdown",
   "id": "f2af41aa-e2f7-449b-a6ec-de68e34d72ce",
   "metadata": {},
   "source": [
    "### Como en todo lenguaje de programación, existen las variables, y pueden ser distintos tipos:\n",
    "    * Enteros (int): Usado para numeros enteros sobre todo.\n",
    "    * Float: Se usa para números decimales.\n",
    "    * Double: Igual que float, pero para números muchisimo más largos\n",
    "    * String (str): Se usa sobre todo para nombres o para aquello que sea tipo comentario o que no tenga una función de manipulación.\n",
    "    * Boolean: Tiene dos únicos valores, 1 o 0, o lo que es lo mismo, True o False, respectivamente."
   ]
  },
  {
   "cell_type": "markdown",
   "id": "60a306c0-5450-4d1a-83bf-d26b38ef4a78",
   "metadata": {},
   "source": [
    "### Comencemos por orden."
   ]
  },
  {
   "cell_type": "markdown",
   "id": "05d723ae-4508-4020-9470-07cf895a818c",
   "metadata": {},
   "source": [
    "## Enteros:\n",
    "### Empezaremos por declararlos. Haremos operaciones y después también veremos como transformarlos."
   ]
  },
  {
   "cell_type": "code",
   "execution_count": 89,
   "id": "b310eca4-b2f6-4df9-a80a-0a24e4e342c5",
   "metadata": {},
   "outputs": [
    {
     "name": "stdout",
     "output_type": "stream",
     "text": [
      "1\n",
      "3\n"
     ]
    },
    {
     "name": "stdin",
     "output_type": "stream",
     "text": [
      "Ingresa tu número:  5\n",
      "Ingresa tu número:  5\n"
     ]
    },
    {
     "name": "stdout",
     "output_type": "stream",
     "text": [
      "8\n"
     ]
    }
   ],
   "source": [
    "x = 1\n",
    "print(x)\n",
    "\n",
    "y = 2\n",
    "print(x + y)\n",
    "\n",
    "z = input(\"Ingresa tu número: \")\n",
    "\n",
    "z = (int(input(\"Ingresa tu número: \")))\n",
    "print(x + y + z)"
   ]
  },
  {
   "cell_type": "markdown",
   "id": "0196777e-c637-4ab3-89ee-3432aed164d0",
   "metadata": {},
   "source": [
    "1. Se ha declarado x como variable con un valor de 1, imprimiendo este valor mediante la variable x.\n",
    "2. Se ha declarado y como variable con un valor de 2 y se ha realizado un impreso sumando las dos variables.\n",
    "3. Se ha declarado z como variable con input. Input es una función para que el usuario ingrese el valor que desee en la variable. Por defecto, será de tipo string, por lo tanto, habrá que transformalo a int, dado que no se puede realizar operaciones matemáticas entre int y str.\n",
    "4. Se ha declarado la misma variable, pero transformada en int. Este proceso aplica a cualquier tipo que se desee transformar. De esta manera, ya se puede realizar la operación deseada."
   ]
  },
  {
   "cell_type": "markdown",
   "id": "16769baa-077c-43dd-8ad1-86b41bdc1c9b",
   "metadata": {},
   "source": [
    "## Floats:"
   ]
  },
  {
   "cell_type": "code",
   "execution_count": 90,
   "id": "7c6a2b27-420e-43a0-b856-a1072007a1e4",
   "metadata": {},
   "outputs": [
    {
     "name": "stdout",
     "output_type": "stream",
     "text": [
      "1.8\n",
      "1.2\n",
      "3.0\n",
      "12.0\n",
      "1\n"
     ]
    }
   ],
   "source": [
    "x = 1.8\n",
    "print(x)\n",
    "y = 1.2\n",
    "print(y)\n",
    "\n",
    "print(x + y)\n",
    "\n",
    "z = 9\n",
    "print(x + y +z)\n",
    "\n",
    "print(int(x))"
   ]
  },
  {
   "cell_type": "markdown",
   "id": "30cf5fb7-0e4a-4133-a707-cf763cf8c827",
   "metadata": {},
   "source": [
    "1. Se ha declarado x con un valor de 1.5 e y con un valor de 1.2. Ambos son tipo Float.\n",
    "2. Se puede realizar operaciones entre este tipo\n",
    "3. También con tipo entero\n",
    "4. Se pueden transformar en tipo entero mediante el mismo método anteriormente descrito, lo que hará que se redondee el número hacia abajo."
   ]
  },
  {
   "cell_type": "markdown",
   "id": "d3963696-20e8-44b4-9464-0360201a009c",
   "metadata": {},
   "source": [
    "## Doubles:\n",
    "### Básicamente lo mismo que float, pero con números mucho más extensos."
   ]
  },
  {
   "cell_type": "markdown",
   "id": "04d86d34-be36-481d-b71d-ee749e0d325b",
   "metadata": {},
   "source": [
    "## String:\n",
    "### Siempre que no necesitemos realizar una manipulación de datos, por ejemplo, u operaciones matemáticas, se usará string. Vease por ejemplo para determinar nombres de personas, cosas, animales o lugares."
   ]
  },
  {
   "cell_type": "code",
   "execution_count": 91,
   "id": "9e50938b-0d0d-4ad9-ae3d-8ca334c4963d",
   "metadata": {},
   "outputs": [
    {
     "name": "stdout",
     "output_type": "stream",
     "text": [
      "Bucarest\n",
      "Bucarest Anthony Hopkins Lechuza Móvil\n",
      "Me fui de viaje a Bucarest y vi a Anthony Hopkins siendo atacado por una Lechuza. Lástima que no tuviera mi Móvil\n"
     ]
    },
    {
     "name": "stdin",
     "output_type": "stream",
     "text": [
      "A qué lugar te gustaría ir?  Escocia\n"
     ]
    },
    {
     "name": "stdout",
     "output_type": "stream",
     "text": [
      "Escocia\n"
     ]
    },
    {
     "name": "stdin",
     "output_type": "stream",
     "text": [
      "Di el nombre de alguien que te caiga mal Eddie Murphy\n",
      "Si tuvieses delante a Eddie Murphy, que harias?  Huir\n"
     ]
    },
    {
     "data": {
      "text/plain": [
       "'Huir'"
      ]
     },
     "execution_count": 91,
     "metadata": {},
     "output_type": "execute_result"
    }
   ],
   "source": [
    "ciudad = \"Bucarest\"\n",
    "persona = \"Anthony Hopkins\"\n",
    "animal = \"Lechuza\"\n",
    "objeto = \"Móvil\"\n",
    "\n",
    "print(ciudad)\n",
    "print(ciudad, persona, animal, objeto)\n",
    "print(f\"Me fui de viaje a {ciudad} y vi a {persona} siendo atacado por una {animal}. Lástima que no tuviera mi {objeto}\")\n",
    "\n",
    "sitio_deseado = input(\"A qué lugar te gustaría ir? \")\n",
    "print(sitio_deseado)\n",
    "\n",
    "persona_que_cae_mal = input(\"Di el nombre de alguien que te caiga mal\")\n",
    "input(f\"Si tuvieses delante a {persona_que_cae_mal}, que harias? \")"
   ]
  },
  {
   "cell_type": "markdown",
   "id": "3494a6c0-a6a8-4469-9d1c-8ef8dc9c301b",
   "metadata": {},
   "source": [
    "1. Declaramos las variables que deseamos tener y le damos el valor correspondiente. Se usa comilla o comillas dobles para determinar strings.\n",
    "2. De la misma manera que hacemos operaciones matemáticas, también podemos extraer los valores de forma seguida añadiendo coma entre las variables en print.\n",
    "3. Mediante el método print(f\"\") accedemos a las variables para usarlas dentro del print y extraer sus valores mediante {}.\n",
    "4. Igual que hemos usado antes input para las operaciones matemáticas, también podemos usarlo en string. En este caso le hemos dado a la variable \"sitio_deseado\" un valor de input(), en el que almacenar un valor a elección del usuario y luego imprimirlo.\n",
    "5. Aqui hemos declarado una variable con un valor input que usamos para otro input en el que extraer ese valor para interactuar con el usuario."
   ]
  },
  {
   "cell_type": "markdown",
   "id": "621fb378-e2d0-410d-9875-de5b3437def4",
   "metadata": {},
   "source": [
    "## Boolean\n",
    "### Los boolean se usan como valores de True o False"
   ]
  },
  {
   "cell_type": "code",
   "execution_count": 92,
   "id": "95d81d68-13ad-40c8-ad15-37d6bfffeb47",
   "metadata": {},
   "outputs": [
    {
     "name": "stdout",
     "output_type": "stream",
     "text": [
      "1:  True\n",
      "2:  False\n"
     ]
    }
   ],
   "source": [
    "numero1 = 10\n",
    "numero2 = 5\n",
    "\n",
    "es_mayor = numero1 > numero2\n",
    "\n",
    "print(\"1: \", es_mayor)\n",
    "\n",
    "numero3 = 11\n",
    "numero4 = 12\n",
    "es_menor = numero4 < numero3\n",
    "print(\"2: \", es_menor)"
   ]
  },
  {
   "cell_type": "markdown",
   "id": "8a959438-80c1-4489-9d91-fd167cea0e63",
   "metadata": {},
   "source": [
    "1. Declaramos dos variables con dos números distintos para comparar cual es mayor.\n",
    "2. Declaramos una variable que almacene ambas variables para comparar sus valores.\n",
    "3. Imprimimos para dar el resultado. En el primer caso, sale True, dado que el primer número es mayor que el segundo. En el segundo caso, hacemos lo contrario."
   ]
  },
  {
   "cell_type": "markdown",
   "id": "5b1a3bb2-f4d2-4977-b8d7-1912885365d3",
   "metadata": {},
   "source": [
    "## Listas(o arrays), diccionarios y tuplas"
   ]
  },
  {
   "cell_type": "markdown",
   "id": "aae9943a-7cc1-436f-ae1f-8f9bcff55003",
   "metadata": {},
   "source": [
    "### Cada una tiene sus usos, pero sobre todo voy a destacar las dos cosas más importantes:\n",
    "1. Las listas se pueden mutar, o sea, se pueden cambiar valores, añadir o eliminar.\n",
    "    * Su sintaxis es variable = []\n",
    "2. Los diccionarios son consultas en las que se puede consultar sus valores dentro de las subvariables introducidas, accediendo a su nombre o posición.\n",
    "    * Su sintaxis es variable = {\"Singapur\":\"Asia\"}\n",
    "3. Las tuplas son inmutables.\n",
    "    * Su sintaxis es variable = ()"
   ]
  },
  {
   "cell_type": "markdown",
   "id": "70b1bebb-f395-45f8-a638-546e29d263d3",
   "metadata": {},
   "source": [
    "## Empecemos por las listas o arrays"
   ]
  },
  {
   "cell_type": "code",
   "execution_count": 93,
   "id": "de2c4ed5-fb99-45a6-80a5-36e9826c52f8",
   "metadata": {},
   "outputs": [
    {
     "name": "stdout",
     "output_type": "stream",
     "text": [
      "['Manzanas', 'Huevos', 'Lechuga']\n",
      "['Manzanas', 'Huevos', 'Lechuga', 'Leche']\n",
      "['Manzanas', 'Lechuga', 'Leche']\n",
      "(1, 2, 3, 4, 5)\n",
      "3\n",
      "5\n",
      "Leche\n"
     ]
    }
   ],
   "source": [
    "mi_lista = [\"Manzanas\", \"Huevos\", \"Lechuga\"]\n",
    "print(mi_lista)\n",
    "\n",
    "mi_lista.append(\"Leche\")\n",
    "print(mi_lista)\n",
    "\n",
    "mi_lista.remove(\"Huevos\")\n",
    "print(mi_lista)\n",
    "\n",
    "lista_numeros = (1, 2, 3, 4, 5)\n",
    "print(lista_numeros)\n",
    "\n",
    "print(len(mi_lista))\n",
    "print(len(lista_numeros))\n",
    "print(mi_lista[2])"
   ]
  },
  {
   "cell_type": "markdown",
   "id": "acd07c43-23fd-4bf3-a545-5d137ce8ee4f",
   "metadata": {},
   "source": [
    "1. Declaramos la variable mi_lista, e introducimos los valores.\n",
    "2. Mediante .append podemos añadir un valor nuevo a la lista, o múltiples.\n",
    "3. Mediante .remove podemos eliminar un valor de la lista, o múltiples.\n",
    "4. Declaramos una variable llamada lista_numeros para darle una lista de numeros del 1 al 5\n",
    "5. Con len podemos hacer un recuento de cuantos valores tiene una lista.\n",
    "6. Mediante [] y un número en el interior, accedemos al hueco de memoria de los valores en la lista. De esa manera podemos consultar que posición ocupa ese número.\n",
    "    * Aclarar que los huecos en Python empiezan en 0, lo que quiere decir que [1] no significa la primera posición, sino la segunda, por lo que usariamos [0]"
   ]
  },
  {
   "cell_type": "markdown",
   "id": "b9ac409a-e5c9-4aef-bc6b-8393f8b63631",
   "metadata": {},
   "source": [
    "## Diccionario"
   ]
  },
  {
   "cell_type": "code",
   "execution_count": 94,
   "id": "bc672bdf-0b35-422b-9082-95bb1112725a",
   "metadata": {},
   "outputs": [
    {
     "name": "stdout",
     "output_type": "stream",
     "text": [
      "{'Nombre': 'Adolfo', 'Trabajo': 'Artista', 'Pais': 'Austria'}\n",
      "Adolfo\n"
     ]
    }
   ],
   "source": [
    "mi_diccionario = {\"Nombre\":\"Adolfo\", \"Trabajo\":\"Artista\", \"Pais\":\"Austria\"}\n",
    "print(mi_diccionario)\n",
    "\n",
    "print(mi_diccionario[\"Nombre\"])"
   ]
  },
  {
   "cell_type": "markdown",
   "id": "f774dcf5-c7b2-405a-89dd-c55f43cdf745",
   "metadata": {},
   "source": [
    "1. Declaramos una variable llamada mi_diccionario con sus valores y subvalores correspondientes.\n",
    "2. Igual que accedimos en las listas con [], en un diccionario accedemos a ese valor mediante la palabra a buscar."
   ]
  },
  {
   "cell_type": "markdown",
   "id": "b293f70f-1536-4aa3-837f-71edd2ae9f52",
   "metadata": {},
   "source": [
    "## Tuplas"
   ]
  },
  {
   "cell_type": "code",
   "execution_count": 95,
   "id": "c5beea5c-ac77-4076-8592-88ac1164962c",
   "metadata": {},
   "outputs": [
    {
     "name": "stdout",
     "output_type": "stream",
     "text": [
      "('Cerdo', 'Vaca', 'Perro')\n",
      "3\n"
     ]
    }
   ],
   "source": [
    "mi_tupla = (\"Cerdo\", \"Vaca\", \"Perro\")\n",
    "print(mi_tupla)\n",
    "\n",
    "print(len(mi_tupla))"
   ]
  },
  {
   "cell_type": "markdown",
   "id": "77c9d420-5478-41ba-a1bf-49c6298fd670",
   "metadata": {},
   "source": [
    "1. Declaramos una variable llamada mi_tupla, y almacenamos una lista de valores.\n",
    "2. Con len comprobamos la longitud de valores que existen.\n",
    "3. No podemos manipular estos datos como con las listas, por lo que solo podemos acceder a ellos para su lectura, pero no manipulación salvo en el propio código."
   ]
  },
  {
   "cell_type": "markdown",
   "id": "3853b8ae-a28f-48da-aac1-c04db47333c4",
   "metadata": {},
   "source": [
    "## Pasamos a condicionales if, elif y else\n",
    "### Mediante estos condicionales podemos realizar códigos que determinen condiciones según la situación."
   ]
  },
  {
   "cell_type": "markdown",
   "id": "184a36df-9f34-46ae-a6a3-c4e51c1d64fd",
   "metadata": {},
   "source": [
    "## If:"
   ]
  },
  {
   "cell_type": "code",
   "execution_count": 96,
   "id": "273819f3-2fcb-4476-a8b3-c484c5b898fe",
   "metadata": {},
   "outputs": [
    {
     "name": "stdout",
     "output_type": "stream",
     "text": [
      "Este es un ejemplo de if\n"
     ]
    }
   ],
   "source": [
    "x = 10\n",
    "\n",
    "if x <= 10:\n",
    "    print(\"Este es un ejemplo de if\")"
   ]
  },
  {
   "cell_type": "markdown",
   "id": "9a50d031-753b-419f-a044-cbd384eacd2c",
   "metadata": {},
   "source": [
    "1. Declaramos una variable. Elegí x = 10.\n",
    "2. Comenzamos a declarar la condicional if.\n",
    "       * Sintaxis de if: \"if (variable) (condición) (dos puntos), el resto del código va abajo de la línea y tabulado\"\n",
    "3. Dado que, en este caso, x es igual a 10, y la condición determina que, si x es igual o menor que 10, se imprima un mensaje, la condición se cumple y se imprime."
   ]
  },
  {
   "cell_type": "markdown",
   "id": "745d4c7a-0f24-499d-b84b-d62ca3367606",
   "metadata": {},
   "source": [
    "## Else:"
   ]
  },
  {
   "cell_type": "code",
   "execution_count": 97,
   "id": "111736f5-a618-4f10-91ab-9a3bc0c3205b",
   "metadata": {},
   "outputs": [
    {
     "name": "stdout",
     "output_type": "stream",
     "text": [
      "Este es un ejemplo de else\n"
     ]
    }
   ],
   "source": [
    "x = 10\n",
    "\n",
    "if x < 10:\n",
    "    print(\"Este no es un ejemplo de if\")\n",
    "else:\n",
    "    print(\"Este es un ejemplo de else\")"
   ]
  },
  {
   "cell_type": "markdown",
   "id": "96633632-9182-4a5f-9480-29bc7bd2d833",
   "metadata": {},
   "source": [
    "1. Aquí se ha decidido hacer los mismos pasos que en el ejemplo anterior, salvo con una modificación. En vez de ser x menor o igual, solo está menor, por lo que la condición anterior se rompe en if y pasa a else.\n",
    "    * Sintaxis de else: Es la ultima condición. Mediante else se hace el último paso antes de cerrar el trozo de código. Es básicamente \"si todo lo demás no se cumplen, sucede esto\""
   ]
  },
  {
   "cell_type": "markdown",
   "id": "b21a8d3e-eea4-49ca-9914-71545ed02375",
   "metadata": {},
   "source": [
    "## Elif:"
   ]
  },
  {
   "cell_type": "code",
   "execution_count": 98,
   "id": "6603fef8-36a1-4c11-a29f-695111015505",
   "metadata": {},
   "outputs": [
    {
     "name": "stdout",
     "output_type": "stream",
     "text": [
      "Este es un ejemplo de elif\n"
     ]
    }
   ],
   "source": [
    "x = 11\n",
    "y = 11\n",
    "if x <= 10:\n",
    "    print(\"Este no es un ejemplo de if\")\n",
    "elif y == 11:\n",
    "    print(\"Este es un ejemplo de elif\")\n",
    "else:\n",
    "    print(\"Este no es un ejemplo de else\")"
   ]
  },
  {
   "cell_type": "markdown",
   "id": "7899847c-b598-4f4f-8966-3f09b983e857",
   "metadata": {},
   "source": [
    "1. Hemos empleado los mismos métodos que anteriormente, salvo que hemos añadido otro valor para usar el elif.\n",
    "   * Sintaxis de elif: Misma estructura que if. Nunca se usa antes que if."
   ]
  }
 ],
 "metadata": {
  "kernelspec": {
   "display_name": "Python 3 (ipykernel)",
   "language": "python",
   "name": "python3"
  },
  "language_info": {
   "codemirror_mode": {
    "name": "ipython",
    "version": 3
   },
   "file_extension": ".py",
   "mimetype": "text/x-python",
   "name": "python",
   "nbconvert_exporter": "python",
   "pygments_lexer": "ipython3",
   "version": "3.10.13"
  }
 },
 "nbformat": 4,
 "nbformat_minor": 5
}
