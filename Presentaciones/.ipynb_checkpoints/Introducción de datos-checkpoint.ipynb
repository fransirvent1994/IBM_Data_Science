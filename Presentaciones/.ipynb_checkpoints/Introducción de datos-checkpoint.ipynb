{
 "cells": [
  {
   "cell_type": "markdown",
   "id": "f8a696d4-46c9-46f4-9a16-86682fb1d609",
   "metadata": {},
   "source": [
    "# Introducción de datos"
   ]
  },
  {
   "cell_type": "markdown",
   "id": "411b6108-69c7-4d2c-85e3-775c98b71344",
   "metadata": {},
   "source": [
    "## Anteriormente ya hemos visto una introducción de datos, sin embargo vamos a ahondar un poco más en ello."
   ]
  },
  {
   "cell_type": "markdown",
   "id": "4429047b-c1c4-4357-9209-7620c4ca9e60",
   "metadata": {},
   "source": [
    "### Personalmente, uso mucho los inputs, dada la libertad que ofrece a la hora de elegir los valores en el output de los códigos, sin embargo, no siempre será lo más efectivo, por lo que hay que saber cuando usar los inputs."
   ]
  },
  {
   "cell_type": "markdown",
   "id": "5b863851-f8e7-4a9f-b53e-f62355dafcdc",
   "metadata": {
    "tags": []
   },
   "source": [
    "### Empezamos con un ejemplo sencillo de introducción de datos:"
   ]
  },
  {
   "cell_type": "markdown",
   "id": "860d630c-bacb-410b-a4bf-18285f4520ad",
   "metadata": {},
   "source": [
    "1. La variable x va a almacenar el valor input, el cuál recibirá el valor que el usuario decida.\n",
    "\n",
    "2. No siempre es lo más útil, sin embargo, la práctica conlleva a saber cuando usarlo y cuando no. Por ejemplo, no usaremos inputs en una variable que determine algo fijo, como el nombre de una ciudad o unos datos concretos. Un input llevaría a perder tiempo en los testeos, por lo que en estos casos es mejor aplicar valores determinados.\n",
    "\n",
    "3. No siempre podremos usarlos tal cual. Pensemos en los input como un material bruto. Puede que sirva en ocasiones, pero en otras habrá que transformarlos. \n",
    "##### Los input son, de manera predeterminada, de tipo string (str) por lo que nunca podrá realizar operaciones matemáticas a no ser que se transforme en int, float o double.\n",
    "    \n",
    "4. En el ejemplo siguiente a x, tenemos diversas variables, \"y\" y \"z\", las cuales almacenan valores input. Con print imprimimos el resultado de la suma entre ambas variables."
   ]
  },
  {
   "cell_type": "code",
   "execution_count": 5,
   "id": "55803cc0-eaef-47ce-bf90-dda6f0d72cd6",
   "metadata": {
    "tags": []
   },
   "outputs": [
    {
     "name": "stdin",
     "output_type": "stream",
     "text": [
      " 1\n",
      "Introduzca un número:  1\n",
      "Introduzca un segundo número:  1\n"
     ]
    },
    {
     "name": "stdout",
     "output_type": "stream",
     "text": [
      "2\n"
     ]
    }
   ],
   "source": [
    "x = input(\"\")\n",
    "y = int(input(\"Introduzca un número: \"))\n",
    "z = int(input(\"Introduzca un segundo número: \"))\n",
    "print(y + z)"
   ]
  },
  {
   "cell_type": "markdown",
   "id": "a3040a73-f4af-4c36-bdbf-eeba47a942e6",
   "metadata": {},
   "source": [
    "### La introducción de datos no se diferencia mucho de lo que es declarar una simple variable, sin embargo hay que tener en cuenta lo anterior dicho, más otros datos, como la interacción de los mismos. "
   ]
  },
  {
   "cell_type": "markdown",
   "id": "bf1f7e5a-d9ae-47e7-9076-5e11781740bd",
   "metadata": {},
   "source": [
    "1. Cuando usamos un print o input, tenemos la opción de acceder a los datos para poder manejarlos mediante f\"\" y {variable}. A continuación pondré un ejemplo:\n",
    "\n",
    "2. Recordemos que los inputs son strings, por lo que, en el primer ejemplo es válido su uso, pero en el segundo uso, en número de turistas, no se está haciendo uso de un número entero, sino de un string. Si queremos usar ese número para su manipulación, deberemos transformarlo en int. En este caso, no es importante, pero es un dato que se debe tener en cuenta."
   ]
  },
  {
   "cell_type": "code",
   "execution_count": 10,
   "id": "c3d8c40c-edf8-4144-8eb0-c5cccdd953d7",
   "metadata": {
    "tags": []
   },
   "outputs": [
    {
     "name": "stdin",
     "output_type": "stream",
     "text": [
      "Introduce un nombre de ciudad:  Londres\n",
      "Introduce cuantos turistas visitan Londres al año:  2.000.000\n"
     ]
    },
    {
     "name": "stdout",
     "output_type": "stream",
     "text": [
      "Cada año un número de 2.000.000 visita Londres\n"
     ]
    }
   ],
   "source": [
    "ciudad = input(\"Introduce un nombre de ciudad: \") #Input solicitando nombre de ciudad\n",
    "numero_turistas = input(f\"Introduce cuantos turistas visitan {ciudad} al año: \") # Input solicitando número de turistas y accediendo al nombre de la ciudad elegida.\n",
    "print(f\"Cada año un número de {numero_turistas} visita {ciudad}\") # Print accediendo a ambas variables para lanzar mensaje."
   ]
  },
  {
   "cell_type": "markdown",
   "id": "c5f1c190-0615-4cd7-9bf9-f32291645da2",
   "metadata": {},
   "source": [
    "## ¿Que es mejor? ¿Int, float o double?"
   ]
  },
  {
   "cell_type": "markdown",
   "id": "0c54fcaf-b702-488a-97ca-2258066758c7",
   "metadata": {},
   "source": [
    "### La respuesta es: depende. No hay más, y te explico por qué y vamos con ejemplos."
   ]
  },
  {
   "cell_type": "markdown",
   "id": "5fbb8ba8-48d2-4b48-956c-4e7888cd1366",
   "metadata": {},
   "source": [
    "1. Con int podemos realizar manejo de datos y operaciones con números enteros, sin embargo, si hay un caso de números decimales, la funcionalidad se echa a perder.\n",
    "    * Ante esto, solo podemos adaptarnos a otras transformaciones. Recordemos que los input son string por defecto.\n",
    "2. Con float podemos realizar operaciones matemáticas con decimales, pero no nos sirve para determinar textos, como datos personales, de lugares, etc.\n",
    "3. Lo mismo pasa con double, que tiene el mismo uso y particularidad que float, pero excediendo aún más sus limites.\n",
    "4. Ante esto, solo queda que, si estás empezando a programar, pruebes y falles para aprender. Es la mejor manera, créeme. Sin embargo, te adelanto ya mis consejos para avanzar más rápido en tu progreso. Más adelante, ejemplos:"
   ]
  },
  {
   "cell_type": "markdown",
   "id": "15f33dca-f9d5-4613-b085-2c6e9cdc6b0b",
   "metadata": {},
   "source": [
    "## Float:"
   ]
  },
  {
   "cell_type": "markdown",
   "id": "252fdbaf-4a0f-42d4-942a-46552637bc5a",
   "metadata": {
    "tags": []
   },
   "source": [
    "### Esto sucede cuando queremos realizar datos con input sin transformar en el tipo de datos correcto:"
   ]
  },
  {
   "cell_type": "code",
   "execution_count": 12,
   "id": "171c7f84-e206-4226-b571-11555de086ca",
   "metadata": {
    "tags": []
   },
   "outputs": [
    {
     "name": "stdin",
     "output_type": "stream",
     "text": [
      "Inserte un número:  1\n",
      "Inserte un número:  1\n"
     ]
    },
    {
     "name": "stdout",
     "output_type": "stream",
     "text": [
      "11\n"
     ]
    }
   ],
   "source": [
    "numero1_string = input(\"Inserte un número: \")\n",
    "numero2_string = input(\"Inserte un número: \")\n",
    "print(numero1_string + numero2_string)"
   ]
  },
  {
   "cell_type": "markdown",
   "id": "67ffeaea-07c0-41e4-b00f-d4101936f93e",
   "metadata": {
    "tags": []
   },
   "source": [
    "##### Como podemos ver, los dos números no se operan, sino que se juntan como si fueran dos textos, convirtiendose en uno solo. \n",
    "### Vamos con una solución con float:"
   ]
  },
  {
   "cell_type": "code",
   "execution_count": 15,
   "id": "88a35407-9bdd-46cf-bdf6-7a27d3f2fa94",
   "metadata": {
    "tags": []
   },
   "outputs": [
    {
     "name": "stdin",
     "output_type": "stream",
     "text": [
      "Inserte un número:  2.22\n",
      "Inserte un número:  2.89\n"
     ]
    },
    {
     "name": "stdout",
     "output_type": "stream",
     "text": [
      "5.11\n"
     ]
    }
   ],
   "source": [
    "numero1_float = float(input(\"Inserte un número: \"))\n",
    "numero2_float = float(input(\"Inserte un número: \"))\n",
    "print(numero1_float + numero2_float)"
   ]
  },
  {
   "cell_type": "markdown",
   "id": "764e4d36-e553-449f-b2c4-bf0809543c65",
   "metadata": {},
   "source": [
    "### De esta manera hemos obtenido una suma entre números decimales."
   ]
  },
  {
   "cell_type": "markdown",
   "id": "b052dda8-4785-4c5f-b755-9010c22ac715",
   "metadata": {},
   "source": [
    "## Cuando tratamos con double, se usa igual que float, el caso es que double ocupa el doble de espacio en bytes que float, por lo que, a no ser que sea necesario, se usará float.\n",
    "## ¿Cuando usaríamos double?\n",
    "    * Con datos muy extensos\n",
    "    * Manejo de datos como Data Science, Machine Learning, etc.\n",
    "    * Grandes operaciones relacionadas con la física, astro física, robótica, etc.\n",
    "    * Entre más puntuales.\n",
    "\n",
    "### No siempre en estos casos se usarían, pero hay una mayor probabilidad de tener que usar doubles en estos casos que en códigos simples."
   ]
  },
  {
   "cell_type": "code",
   "execution_count": null,
   "id": "01e93d77-362f-4bfc-a9c2-7eb4d123609f",
   "metadata": {},
   "outputs": [],
   "source": []
  }
 ],
 "metadata": {
  "kernelspec": {
   "display_name": "Python 3 (ipykernel)",
   "language": "python",
   "name": "python3"
  },
  "language_info": {
   "codemirror_mode": {
    "name": "ipython",
    "version": 3
   },
   "file_extension": ".py",
   "mimetype": "text/x-python",
   "name": "python",
   "nbconvert_exporter": "python",
   "pygments_lexer": "ipython3",
   "version": "3.11.5"
  }
 },
 "nbformat": 4,
 "nbformat_minor": 5
}
