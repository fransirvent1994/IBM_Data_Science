{
 "cells": [
  {
   "cell_type": "markdown",
   "id": "242f07cb-0608-44b1-99c0-f031bd6664de",
   "metadata": {},
   "source": [
    "# Las funciones:"
   ]
  },
  {
   "cell_type": "markdown",
   "id": "2944ddde-1d9b-471a-8bc5-42dc7dfa15d4",
   "metadata": {},
   "source": [
    "## Son trozos de código donde se almacenan instrucciones que después se usarán en el resto del código. De esta manera se hace todo más legible y fácil de usar."
   ]
  },
  {
   "cell_type": "markdown",
   "id": "eef3c56d-7784-4afb-9d92-9ccacd7b2c22",
   "metadata": {},
   "source": [
    "### Pongamos un ejemplo. En este caso voy a ir a lo más simple posible, pero más adelante pondré más ejemplos."
   ]
  },
  {
   "cell_type": "markdown",
   "id": "09d26479-1966-4e69-a869-af084ade0abf",
   "metadata": {},
   "source": [
    "1. En la sintaxis de las funciones hay que tener en cuenta que se declara con \"def\" seguido del nombre de la función y parentesis, acabando con dos puntos finales.\n",
    "2. Después seguiría las instrucciones.\n",
    "3. Finalizamos con el nombre de la función más paréntesis. De esa manera se activa la función, ejecutándose."
   ]
  },
  {
   "cell_type": "code",
   "execution_count": 10,
   "id": "deb6df9c-48c6-4545-90b2-5a38de3a727a",
   "metadata": {
    "tags": []
   },
   "outputs": [
    {
     "name": "stdout",
     "output_type": "stream",
     "text": [
      "Hello world\n"
     ]
    }
   ],
   "source": [
    "def HelloWorld():\n",
    "    print(\"Hello world\")\n",
    "    \n",
    "HelloWorld()"
   ]
  },
  {
   "cell_type": "markdown",
   "id": "19efb2cf-c8e8-4f5f-a2d8-11e10f21d72a",
   "metadata": {},
   "source": [
    "### De esta forma podemos crear códigos muy extensos sin necesidad de repetirlos una y otra vez cuando toque hacerlo. Al haber almacenado las instrucciones precisas, solo es necesario usar el nombre de la función para realizarlo."
   ]
  },
  {
   "cell_type": "code",
   "execution_count": 11,
   "id": "4555441e-eb33-4005-a351-1f5c04c89088",
   "metadata": {
    "tags": []
   },
   "outputs": [
    {
     "name": "stdout",
     "output_type": "stream",
     "text": [
      "Hello world\n"
     ]
    }
   ],
   "source": [
    "HelloWorld()"
   ]
  },
  {
   "cell_type": "markdown",
   "id": "95f027d4-cf35-4e69-b89d-6892993ca5cf",
   "metadata": {
    "tags": []
   },
   "source": [
    "## Pongamos otro ejemplo. Operaciones matemáticas.\n",
    "1. En este ejemplo seguimos la misma sintaxis que el ejemplo anterior, pero hacemos un uso algo más complejo.\n",
    "2. Estos términos y usos lo hemos podido ver en este repertorio de temas. Usamos inputs y los transformamos en int para poder hacer uso de la suma.\n",
    "3. Si dispusieramos multiples veces de \"Suma()\" volveriamos a obtener los mismos outputs, pudiendo realizar multiples sumas.\n",
    "4. El uso de funciones como esta es muy útil para, por ejemplo, el uso de una calculadora o similar."
   ]
  },
  {
   "cell_type": "code",
   "execution_count": 13,
   "id": "41575193-763a-4875-b1c5-87a935bb2b39",
   "metadata": {
    "tags": []
   },
   "outputs": [
    {
     "name": "stdin",
     "output_type": "stream",
     "text": [
      "Introduce un número:  1\n",
      "Introduce un segundo número:  1\n"
     ]
    },
    {
     "name": "stdout",
     "output_type": "stream",
     "text": [
      "El resultado de 1 + 1 es: 2\n"
     ]
    }
   ],
   "source": [
    "def Suma():\n",
    "    n1 = int(input(\"Introduce un número: \"))\n",
    "    n2 = int(input(\"Introduce un segundo número: \"))\n",
    "    result = n1 + n2\n",
    "    result_message = print(f\"El resultado de {n1} + {n2} es: {result}\")\n",
    "Suma()\n",
    "    "
   ]
  },
  {
   "cell_type": "markdown",
   "id": "0f54ad1a-bf22-45c3-94aa-7bac870979cb",
   "metadata": {},
   "source": [
    "### En este ejemplo hemos puesto una función que define una condición.\n",
    "1. Declaramos la x como variable int, haciendo un input y solicitando un número.\n",
    "2. La condición es simple. Si la variable x es igual al número introducido, te dirá el número que es."
   ]
  },
  {
   "cell_type": "code",
   "execution_count": 14,
   "id": "7126714f-55ec-4e3f-b4e1-9117bda911b8",
   "metadata": {
    "tags": []
   },
   "outputs": [
    {
     "name": "stdin",
     "output_type": "stream",
     "text": [
      "Introduzca un número:  1\n"
     ]
    },
    {
     "name": "stdout",
     "output_type": "stream",
     "text": [
      "El número es: 1\n"
     ]
    }
   ],
   "source": [
    "def Condicion():\n",
    "    x = int(input(\"Introduzca un número: \"))\n",
    "    \n",
    "    if x == x:\n",
    "        print(f\"El número es: {x}\")\n",
    "Condicion()"
   ]
  },
  {
   "cell_type": "markdown",
   "id": "45ebb632-1c3b-4b36-946d-f64d9a0b88dc",
   "metadata": {},
   "source": [
    "### Tenemos 3 funciones diferentes. Podemos hacer uso de ellas cuando queramos."
   ]
  },
  {
   "cell_type": "code",
   "execution_count": 15,
   "id": "0b1a4942-44d9-4cbc-819c-eaf06ca6642e",
   "metadata": {
    "tags": []
   },
   "outputs": [
    {
     "name": "stdout",
     "output_type": "stream",
     "text": [
      "Hello world\n"
     ]
    },
    {
     "name": "stdin",
     "output_type": "stream",
     "text": [
      "Introduce un número:  1\n",
      "Introduce un segundo número:  1\n"
     ]
    },
    {
     "name": "stdout",
     "output_type": "stream",
     "text": [
      "El resultado de 1 + 1 es: 2\n"
     ]
    },
    {
     "name": "stdin",
     "output_type": "stream",
     "text": [
      "Introduzca un número:  1\n"
     ]
    },
    {
     "name": "stdout",
     "output_type": "stream",
     "text": [
      "El número es: 1\n"
     ]
    }
   ],
   "source": [
    "HelloWorld()\n",
    "Suma()\n",
    "Condicion()"
   ]
  },
  {
   "cell_type": "markdown",
   "id": "fe0f7913-15c3-407f-933e-a4cffd2bd137",
   "metadata": {},
   "source": [
    "## Hagamos las cosas un poco más entretenidas.\n",
    "\n",
    "1. Ejemplo de función de contador.\n",
    "\n",
    "2. El contador cuenta de 1 a 11, pero también podemos usar funciones dentro de una función. En este caso la funcionalidad es nula, pero para mostrar el ejemplo, introduciremos la función de HelloWorld(), pudiendo ver que se imprime su instrucción debajo de cada conteo."
   ]
  },
  {
   "cell_type": "code",
   "execution_count": 16,
   "id": "ae271800-5eaa-46b4-bc7c-da18b8288ccc",
   "metadata": {
    "tags": []
   },
   "outputs": [
    {
     "name": "stdout",
     "output_type": "stream",
     "text": [
      "1\n",
      "Hello world\n",
      "2\n",
      "Hello world\n",
      "3\n",
      "Hello world\n",
      "4\n",
      "Hello world\n",
      "5\n",
      "Hello world\n",
      "6\n",
      "Hello world\n",
      "7\n",
      "Hello world\n",
      "8\n",
      "Hello world\n",
      "9\n",
      "Hello world\n",
      "10\n",
      "Hello world\n",
      "11\n",
      "Hello world\n"
     ]
    }
   ],
   "source": [
    "def contador():\n",
    "    x = 0    \n",
    "    while x <= 10:\n",
    "        x += 1\n",
    "        print(x)\n",
    "        HelloWorld()\n",
    "contador()"
   ]
  },
  {
   "cell_type": "markdown",
   "id": "e821aaf2-93bb-4e19-8e48-0f3d466f2427",
   "metadata": {},
   "source": [
    "### Aquí tenemos la base de las funciones y sus usos más claramente marcados. Es cuestión de practicar. Sin embargo, esto no se queda aquí, vamos con las funciones con parámetros."
   ]
  },
  {
   "cell_type": "markdown",
   "id": "4baa654b-1514-4675-88bd-25b8022620fc",
   "metadata": {},
   "source": [
    "# Funciones con parámetros."
   ]
  },
  {
   "cell_type": "markdown",
   "id": "3d8fc17e-e603-405b-b5ef-a372e696abf6",
   "metadata": {},
   "source": [
    "## Estas funciones tienen la particularidad de tener unos parámetros definidos en su inicialización dentro del parentesis."
   ]
  },
  {
   "cell_type": "markdown",
   "id": "d4c35b0e-e426-479b-b822-05894586e185",
   "metadata": {},
   "source": [
    "### Pongamos otro ejemplo de suma:"
   ]
  },
  {
   "cell_type": "code",
   "execution_count": 30,
   "id": "93c7b919-c502-4304-b79a-6639d454e069",
   "metadata": {
    "tags": []
   },
   "outputs": [
    {
     "name": "stdout",
     "output_type": "stream",
     "text": [
      "9\n"
     ]
    }
   ],
   "source": [
    "def suma(sum1, sum2): # Dos parámetros\n",
    "    return sum1 + sum2 # Return, parámetros y simbolo de operación\n",
    "\n",
    "res = suma(5, 4) # Los dos parámetros sum1 = 5 y sum2 = 4\n",
    "print(res)"
   ]
  },
  {
   "cell_type": "markdown",
   "id": "92326398-c364-44d5-8d03-0e9774216a02",
   "metadata": {},
   "source": [
    "### Vamos con un ejemplo de resta:"
   ]
  },
  {
   "cell_type": "code",
   "execution_count": 27,
   "id": "21841bcb-7968-4c4e-b82c-7375655b82ba",
   "metadata": {
    "tags": []
   },
   "outputs": [
    {
     "name": "stdin",
     "output_type": "stream",
     "text": [
      "Ingresa número:  5\n",
      "Segundo parámetro:  5\n"
     ]
    },
    {
     "name": "stdout",
     "output_type": "stream",
     "text": [
      "0\n"
     ]
    }
   ],
   "source": [
    "def resta(num1, num2): # Primer y segundo parámetros\n",
    "    return num1 - num2\n",
    "\n",
    "resultado = resta(int(input(\"Ingresa número: \")), int(input(\"Segundo parámetro: \"))) # Estos parámetros son inputs transformados en int.\n",
    "print(resultado)"
   ]
  },
  {
   "cell_type": "markdown",
   "id": "cf96a9fc-416c-4532-a195-bb233c5e297b",
   "metadata": {
    "tags": []
   },
   "source": [
    "## Hemos podido ver que las funciones no son difíciles, sin embargo tienen su complejidad.\n",
    "## Esto no es más que lo básico. Las funciones pueden desarrollarse en un código de manera muy impactante.\n",
    "## Una vez dominadas, serán una de tus mejores herramientas en este mundo."
   ]
  }
 ],
 "metadata": {
  "kernelspec": {
   "display_name": "Python 3 (ipykernel)",
   "language": "python",
   "name": "python3"
  },
  "language_info": {
   "codemirror_mode": {
    "name": "ipython",
    "version": 3
   },
   "file_extension": ".py",
   "mimetype": "text/x-python",
   "name": "python",
   "nbconvert_exporter": "python",
   "pygments_lexer": "ipython3",
   "version": "3.11.5"
  }
 },
 "nbformat": 4,
 "nbformat_minor": 5
}
